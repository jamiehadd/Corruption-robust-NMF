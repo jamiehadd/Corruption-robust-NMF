{
  "cells": [
    {
      "cell_type": "markdown",
      "metadata": {
        "id": "CNzIczqzonhX"
      },
      "source": [
        "# Quantile Multiplicative Updates for Corruption-Robust Nonnegative Matrix Factorization\n",
        "\n",
        "This notebook is the code appendix for our submission to SampTA 2025."
      ]
    },
    {
      "cell_type": "markdown",
      "metadata": {
        "id": "af6G3shzbqr7"
      },
      "source": [
        "# Data\n",
        "\n",
        "The following code was used to generate and corrupt swimmer and synthetic data."
      ]
    },
    {
      "cell_type": "markdown",
      "metadata": {
        "id": "YRPiOSYQbyMo"
      },
      "source": [
        "## Corrupt Matrix"
      ]
    },
    {
      "cell_type": "code",
      "execution_count": 4,
      "metadata": {},
      "outputs": [
        {
          "name": "stdout",
          "output_type": "stream",
          "text": [
            "Requirement already satisfied: numpy in c:\\users\\lukex\\appdata\\local\\programs\\python\\python310\\lib\\site-packages (2.2.3)\n"
          ]
        },
        {
          "name": "stderr",
          "output_type": "stream",
          "text": [
            "\n",
            "[notice] A new release of pip is available: 23.0.1 -> 25.0.1\n",
            "[notice] To update, run: python.exe -m pip install --upgrade pip\n"
          ]
        },
        {
          "name": "stdout",
          "output_type": "stream",
          "text": [
            "Collecting scipy\n",
            "  Using cached scipy-1.15.2-cp310-cp310-win_amd64.whl (41.2 MB)\n",
            "Requirement already satisfied: numpy<2.5,>=1.23.5 in c:\\users\\lukex\\appdata\\local\\programs\\python\\python310\\lib\\site-packages (from scipy) (2.2.3)\n",
            "Installing collected packages: scipy\n",
            "Successfully installed scipy-1.15.2\n"
          ]
        },
        {
          "name": "stderr",
          "output_type": "stream",
          "text": [
            "\n",
            "[notice] A new release of pip is available: 23.0.1 -> 25.0.1\n",
            "[notice] To update, run: python.exe -m pip install --upgrade pip\n"
          ]
        }
      ],
      "source": [
        "! pip install numpy\n",
        "! pip install scipy"
      ]
    },
    {
      "cell_type": "code",
      "execution_count": 5,
      "metadata": {
        "id": "U4SIHSTubx_a"
      },
      "outputs": [],
      "source": [
        "import numpy as np\n",
        "\n",
        "def corrupt_matrix(D_tilde, beta=0.1, corruption_scale=1e6):\n",
        "    \"\"\"\n",
        "    Generates a corrupted data matrix D from an uncorrupted data matrix D_tilde.\n",
        "\n",
        "    This function simulates corruption by adding noise to a fraction of the entries in D_tilde.\n",
        "    The observed data is given by:\n",
        "        D = D_tilde + C,\n",
        "    where C is a sparse corruption matrix. A fraction beta of the entries in D_tilde\n",
        "    are corrupted by adding noise drawn from the absolute value of a Gaussian distribution,\n",
        "    i.e., |N(0, corruption_scale^2)|, ensuring nonnegative noise.\n",
        "\n",
        "    Parameters:\n",
        "        D_tilde (np.ndarray): The original, uncorrupted data matrix.\n",
        "        beta (float): The fraction of entries to corrupt (0 < beta < 1).\n",
        "        corruption_scale (float): The standard deviation of the noise, determining the magnitude of corruption.\n",
        "\n",
        "    Returns:\n",
        "        D (np.ndarray): The corrupted data matrix.\n",
        "    \"\"\"\n",
        "    m, n = D_tilde.shape\n",
        "    total_elements = m * n\n",
        "    num_corrupted = int(total_elements * beta)\n",
        "\n",
        "    # Generate nonnegative noise: absolute value of a Gaussian random variable\n",
        "    noise = np.abs(corruption_scale * np.random.randn(num_corrupted))\n",
        "\n",
        "    # Create a copy of D_tilde and flatten it for easier indexing\n",
        "    D_flat = D_tilde.copy().flatten()\n",
        "\n",
        "    # Randomly select indices to corrupt\n",
        "    corrupt_indices = np.random.choice(total_elements, size=num_corrupted, replace=False)\n",
        "\n",
        "    # Add noise to the selected entries\n",
        "    D_flat[corrupt_indices] += noise\n",
        "\n",
        "    # Reshape back to the original matrix shape\n",
        "    D = D_flat.reshape(m, n)\n",
        "\n",
        "    return D"
      ]
    },
    {
      "cell_type": "markdown",
      "metadata": {
        "id": "Jw0r0lVEv1Uj"
      },
      "source": [
        "## Synthetic Data"
      ]
    },
    {
      "cell_type": "code",
      "execution_count": 6,
      "metadata": {
        "id": "rQ8m7ubhe0tO"
      },
      "outputs": [],
      "source": [
        "def generate_synthetic_matrix(m, n, r, beta=0, corruption_scale=1e6):\n",
        "    \"\"\"\n",
        "    Generates a synthetic data matrix D_tilde that is exactly factorizable as\n",
        "        D_tilde = W_tilde @ H_tilde,\n",
        "    where W_tilde and H_tilde have nonnegative integer entries drawn uniformly from {0, ..., 99}.\n",
        "\n",
        "    Parameters:\n",
        "        m (int): Number of rows in D_tilde.\n",
        "        n (int): Number of columns in D_tilde.\n",
        "        r (int): Target rank (latent dimensionality) of the factorization.\n",
        "        beta (float): Proportion of matrix entries to be corrupted.\n",
        "        corruption_scale (float): Size of corruptions to be added.\n",
        "\n",
        "    Returns:\n",
        "        D_tilde (np.ndarray): The uncorrupted synthetic data matrix.\n",
        "        W_tilde (np.ndarray): The ground-truth dictionary matrix.\n",
        "        H_tilde (np.ndarray): The ground-truth representation matrix.\n",
        "    \"\"\"\n",
        "    # Generate factor matrices using the paper's notation.\n",
        "    W_tilde = np.abs(np.random.randint(0, high=100, size=(m, r)))\n",
        "    H_tilde = np.abs(np.random.randint(0, high=100, size=(r, n)))\n",
        "\n",
        "    # Form the uncorrupted data matrix D_tilde.\n",
        "    D_tilde = W_tilde @ H_tilde\n",
        "    D_tilde = D_tilde.astype(float)  # Convert to float to allow for future noise addition\n",
        "\n",
        "    D = D_tilde\n",
        "    if beta > 0:\n",
        "        D = corrupt_matrix(D_tilde, beta, corruption_scale=corruption_scale)\n",
        "\n",
        "    return D, D_tilde"
      ]
    },
    {
      "cell_type": "markdown",
      "metadata": {
        "id": "D048xkeffgUG"
      },
      "source": [
        "## Swimmer Dataset"
      ]
    },
    {
      "cell_type": "code",
      "execution_count": 7,
      "metadata": {
        "id": "NUqremNX1RIU"
      },
      "outputs": [],
      "source": [
        "import scipy.io\n",
        "import numpy as np\n",
        "import matplotlib.pylab as plt\n",
        "\n",
        "def load_swimmer_dataset(beta=0, corruption_scale=1e6, display=False):\n",
        "    \"\"\"\n",
        "    Loads the Swimmer dataset from the 'Swimmer.mat' file.\n",
        "    Ensure 'Swimmer.mat' is in the working directory before calling.\n",
        "\n",
        "    In the .mat file, the data is stored under the key 'X'. Optionally, two sample images\n",
        "    (images 17 and 170) can be displayed.\n",
        "\n",
        "    Parameters:\n",
        "        beta (float): Proportion of matrix entries to be corrupted\n",
        "        corruption_scale (float): Size of corruptions to be added\n",
        "          display (bool): If True, displays two sample images from the dataset.\n",
        "\n",
        "    Returns:\n",
        "        D (np.ndarray): The data matrix from the Swimmer dataset, with corruptions.\n",
        "        D_tilde (np.ndarray): The data matrix from the Swimmer dataset.\n",
        "    \"\"\"\n",
        "    mat = scipy.io.loadmat(\"Swimmer.mat\")\n",
        "    D_tilde = mat['X'].astype(float)\n",
        "    D = D_tilde\n",
        "\n",
        "    if beta > 0:\n",
        "        D = corrupt_matrix(D_tilde, beta, corruption_scale=corruption_scale)\n",
        "\n",
        "    if display:\n",
        "        pic17 = np.reshape(D_tilde[:, 17], (11, 20))\n",
        "        pic170 = np.reshape(D_tilde[:, 170], (11, 20))\n",
        "\n",
        "        plt.figure(figsize=[15, 6])\n",
        "        plt.suptitle(\"Swimmer Images\")\n",
        "\n",
        "        plt.subplot(1, 2, 1)\n",
        "        plt.imshow(pic17)\n",
        "        plt.title(\"Image 17\")\n",
        "        plt.xticks([])\n",
        "        plt.yticks([])\n",
        "\n",
        "        plt.subplot(1, 2, 2)\n",
        "        plt.imshow(pic170)\n",
        "        plt.title(\"Image 170\")\n",
        "        plt.xticks([])\n",
        "        plt.yticks([])\n",
        "\n",
        "    return D, D_tilde"
      ]
    },
    {
      "cell_type": "markdown",
      "metadata": {
        "id": "Ou8tNXrxwwZL"
      },
      "source": [
        "# Experiments"
      ]
    },
    {
      "cell_type": "code",
      "execution_count": 8,
      "metadata": {
        "id": "MQ43KCDmcXzF"
      },
      "outputs": [],
      "source": [
        "# Import our algorithms\n",
        "from nmf import nmf\n",
        "from qmu import qmu"
      ]
    },
    {
      "cell_type": "markdown",
      "metadata": {
        "id": "S7BOOI3cIJNN"
      },
      "source": [
        "## Plotting"
      ]
    },
    {
      "cell_type": "code",
      "execution_count": 9,
      "metadata": {
        "collapsed": true,
        "id": "3u4poA_3Ya-d"
      },
      "outputs": [
        {
          "name": "stderr",
          "output_type": "stream",
          "text": [
            "The system cannot find the path specified.\n"
          ]
        }
      ],
      "source": [
        "# Install LaTeX for plotting\n",
        "!sudo apt install -y cm-super dvipng texlive-latex-extra texlive-latex-recommended > /dev/null 2>&1"
      ]
    },
    {
      "cell_type": "code",
      "execution_count": 10,
      "metadata": {
        "id": "WJmCehGSPicZ"
      },
      "outputs": [],
      "source": [
        "import numpy as np\n",
        "import matplotlib.pylab as plt\n",
        "\n",
        "def plot_experiment(errors, log_y_axis=False, y_lab=r\"\\text{Relative Error} $\\displaystyle\\frac{\\lVert \\tilde{D} - WH \\rVert}{\\lVert \\tilde{D} \\rVert}$\"):\n",
        "    \"\"\"\n",
        "    Plots the evolution of relative error over iterations for multiple experiments.\n",
        "\n",
        "    Parameters:\n",
        "        errors (dict): Dictionary mapping method labels (str) to numpy arrays of shape\n",
        "                       (num_runs, num_iterations+1) containing relative error values.\n",
        "        log_y_axis (bool): If True, sets the y-axis to a logarithmic scale.\n",
        "        y_lab (str): Label for the y-axis (supports LaTeX formatting).\n",
        "    \"\"\"\n",
        "    plt.style.use('ggplot')\n",
        "    plt.rcParams[\"figure.figsize\"] = (19, 11)\n",
        "    plt.rcParams[\"font.size\"] = 32\n",
        "    plt.rcParams[\"xtick.color\"] = 'black'\n",
        "    plt.rcParams[\"ytick.color\"] = 'black'\n",
        "    plt.rcParams[\"axes.edgecolor\"] = 'black'\n",
        "    plt.rcParams[\"axes.linewidth\"] = 1\n",
        "    plt.rcParams['text.usetex'] = True\n",
        "    plt.rcParams['text.latex.preamble'] = r'\\usepackage{amsmath}'\n",
        "\n",
        "    labels = list(errors.keys())\n",
        "    num_iterations = errors[labels[0]].shape[1]\n",
        "    domain = range(num_iterations)\n",
        "\n",
        "    dashes = [\n",
        "        [1, 0],      # Solid\n",
        "        [6, 2],      # Dashed\n",
        "        [1, 2],      # Dotted\n",
        "        [4, 2, 1, 2],# Dash-Dot\n",
        "        [8, 2, 2, 2],# Custom\n",
        "        [3, 1, 1, 1]\n",
        "    ]\n",
        "    colors = ['red', 'blue', 'green', 'orange', 'purple', 'teal', 'yellow', 'pink']\n",
        "\n",
        "    plt.figure()\n",
        "\n",
        "    for i, label in enumerate(labels):\n",
        "        data_matrix = errors[label]\n",
        "        mean_error = np.mean(data_matrix, axis=0)\n",
        "        min_error = np.min(data_matrix, axis=0)\n",
        "        max_error = np.max(data_matrix, axis=0)\n",
        "\n",
        "        plt.plot(domain, mean_error, label=label, color=colors[i], dashes=dashes[i], linewidth=3)\n",
        "        plt.fill_between(domain, min_error, max_error, color=colors[i], alpha=0.2)\n",
        "\n",
        "    plt.xlabel(\"Iteration\", color='black')\n",
        "    plt.ylabel(y_lab, color='black')\n",
        "\n",
        "    if log_y_axis:\n",
        "        plt.yscale('log')\n",
        "\n",
        "    plt.xticks(ticks=np.arange(0, num_iterations, step=max(1, num_iterations // 8)))\n",
        "    plt.grid(color='grey', linestyle='--', linewidth=0.5)\n",
        "    plt.legend(fancybox=True, handlelength=1.5, shadow=False, loc='best', ncol=1,\n",
        "               fontsize=36, framealpha=1.0, edgecolor='black', borderpad=0.4, borderaxespad=0.1)\n",
        "    plt.show()"
      ]
    },
    {
      "cell_type": "code",
      "execution_count": 11,
      "metadata": {
        "id": "dipclorAkDrr"
      },
      "outputs": [],
      "source": [
        "import numpy as np\n",
        "\n",
        "def run_experiments(num_runs, num_iterations, experiment, data_gen_func, base_seed=42, output=\"Error Plot\",\n",
        "                    y_lab=r\"\\text{Relative Error} $\\displaystyle\\frac{\\lVert \\tilde{D} - WH \\rVert}{\\lVert \\tilde{D} \\rVert}$\"):\n",
        "    \"\"\"\n",
        "    Runs multiple experiments and collects error values.\n",
        "\n",
        "    Parameters:\n",
        "        num_runs (int): Number of independent experimental runs.\n",
        "        num_iterations (int): Number of iterations per run.\n",
        "        experiments (dict): Dictionary mapping experiment labels to experiment specifications.\n",
        "            Each specification is a dict with the following (optional) keys:\n",
        "                - 'alg_func': (required) Function handle for the algorithm (e.g., StandardNMF or CorruptionRobustNMF).\n",
        "                - 'alg_params': (optional) Dictionary of additional parameters to pass to the algorithm.\n",
        "                - 'data_params': (optional) Dictionary of parameters to pass to the data generation function.\n",
        "                - 'data_input': (optional) Tuple (ref_choice, train_choice) where each element is either\n",
        "                                \"X\" (uncorrupted data) or \"X_corrupted\" (corrupted data). Default is (\"X\", \"X_corrupted\").\n",
        "                - 'model_rank': (optional) Target rank. If provided, it will be passed as the fourth argument.\n",
        "        data_gen_func (function): Function to generate data. It should accept keyword arguments (if any)\n",
        "                                  and return a tuple (X, X_corrupted).\n",
        "        base_seed (int): Base random seed for reproducibility.\n",
        "        output (set): Set of strings indicating what output to generate. Can be \"Error Plot\" or \"Swimmer Image\".\n",
        "\n",
        "    Returns:\n",
        "        results (dict): Dictionary mapping experiment labels to numpy arrays of error values with shape\n",
        "                        (num_runs, T), where T is the length of the error vector returned by the algorithm.\n",
        "    \"\"\"\n",
        "    results = {label: [] for label in experiment}\n",
        "    runtimes = {label: [] for label in experiment}\n",
        "    seed = base_seed\n",
        "\n",
        "    for run in range(num_runs):\n",
        "        np.random.seed(seed)\n",
        "        for label, exp in experiment.items():\n",
        "            # Get data generation parameters (if any) and generate data.\n",
        "            data_params = exp.get('data_params', {})\n",
        "            D, D_tilde = data_gen_func(**data_params)\n",
        "\n",
        "            # Determine which data to use as reference and for training.\n",
        "            # data_input should be a tuple: (ref_choice, train_choice), each either \"X\" or \"X_corrupted\".\n",
        "            data_input = exp.get('data_input', (\"X\", \"X_corrupted\"))\n",
        "            D_ref = D_tilde if data_input[0] == \"D_tilde\" else D\n",
        "            D_train = D_tilde if data_input[1] == \"D_tilde\" else D\n",
        "\n",
        "            # Retrieve the algorithm function and any extra parameters.\n",
        "            alg_func = exp['alg_func']\n",
        "            alg_params = exp.get('alg_params', {})\n",
        "            model_rank = exp.get('model_rank', None)\n",
        "\n",
        "            # Run the algorithm. If model_rank is specified, pass it as the fourth argument.\n",
        "            outputs = alg_func(D_ref, D_train, num_iterations, model_rank, **alg_params)\n",
        "            # Assume that the error vector is the last output.\n",
        "            errors = outputs[-2]\n",
        "            results[label].append(errors)\n",
        "            runtime = outputs[-1]\n",
        "            runtimes[label].append(runtime)\n",
        "        seed += 1\n",
        "\n",
        "    # Convert list of error vectors to numpy arrays.\n",
        "    for label in results:\n",
        "        runtimes_of_label = [runtimes[label][trial] for trial in range(num_runs)]\n",
        "        print(f\"{label}: average runtime {round(np.mean(runtimes_of_label), 4)} +/- {round(np.std(runtimes_of_label), 4)} seconds\")\n",
        "\n",
        "        results[label] = np.array(results[label])\n",
        "\n",
        "    if output == \"Error Plot\":\n",
        "          plot_experiment(results, log_y_axis=True, y_lab=y_lab)"
      ]
    },
    {
      "cell_type": "markdown",
      "metadata": {
        "id": "pLztzfWIFFXy"
      },
      "source": [
        "## Synthetic Data\n",
        "\n",
        "In the following experiments, we generate synthetic data matrices by generating an exactly factorizable matrix $\\tilde{\\mathbf{D}} = \\hat{\\mathbf{W}}\\hat{\\mathbf{H}}$ where $\\hat{\\mathbf{W}} \\in \\mathbb{R}^{n_1 \\times \\hat{r}}$ and $\\hat{\\mathbf{H}} \\in \\mathbb{R}^{\\hat{r} \\times n_2}$ have integer entries sampled uniformly at random from $\\{0, \\cdots, 100\\}$. We then form the corrupted data $\\mathbf{D}$ by sampling entries uniformly at random from $\\tilde{\\mathbf{D}}$ and adding an element sampled from $|N(0,10^{12})|$. In all experiments, unless otherwise specified, we set the model rank equal to the rank of the uncorrupted data, $r = \\hat{r}$, and the predicted uncorrupted proportion (quantile) $q$ equal to the true uncorrupted proportion $1-\\beta$.  In each experiment that follows, we train each model for 400 iterations and run 10 trials with different factor matrix initializations."
      ]
    },
    {
      "cell_type": "markdown",
      "metadata": {
        "id": "E0Hrsh5DyVjO"
      },
      "source": [
        "### Comparing standard multiplicative updates and QMU (Figure 2)\n",
        "\n",
        "In our first experiment, we compare the behavior of standard multiplicative updates and QMU applied to the uncorrupted synthetic data $\\tilde{\\mathbf{D}} \\in \\mathbb{R}^{120 \\times 100}$ with rank $\\hat{r} = 40$, and corrupted data $\\mathbf{D}$ with corruption rate $\\beta = 0.2$. We run standard multiplicative updates on corrupted data $\\mathbf{D}$ and uncorrupted data $\\tilde{\\mathbf{D}}$, as well as QMU on corrupted data $\\mathbf{D}$. %$\\tilde{\\mathbf{D}}$ and $\\mathbf{D}$ have dimensions $120 \\times 100$ with a data rank of 40, and we corrupt $20\\%$ of the entries in $\\tilde{\\mathbf{D}}$ to create $\\mathbf{D}$.\n",
        " All errors are measured against the uncorrupted data $\\tilde{\\mathbf{D}}$. The plot generated below demonstrates that although standard multiplicative updates with uncorrupted data reaches the lowest overall error, in the presence of large additive corrupted values, QMU vastly outperforms standard multiplicative updates. This illustrates how QMU ignores entries corresponding to large residual values and performs the update using only the other entries."
      ]
    },
    {
      "cell_type": "code",
      "execution_count": 12,
      "metadata": {
        "colab": {
          "base_uri": "https://localhost:8080/"
        },
        "id": "qNExrfuNNWPF",
        "outputId": "d5a7a2aa-7b6f-4354-90be-add8ecc9e8ff"
      },
      "outputs": [
        {
          "name": "stdout",
          "output_type": "stream",
          "text": [
            "Standard NMF on $\\tilde{D}$: average runtime 0.132 +/- 0.032 seconds\n",
            "Standard NMF on $D$: average runtime 0.1377 +/- 0.0348 seconds\n",
            "QMU on $D$: average runtime 0.2622 +/- 0.0892 seconds\n"
          ]
        }
      ],
      "source": [
        "experiment = {\n",
        "    r\"Standard NMF on $\\tilde{D}$\": {\n",
        "        \"alg_func\": nmf,\n",
        "        \"alg_params\": {},\n",
        "        \"data_input\": (\"D_tilde\", \"D_tilde\"),  # Use uncorrupted data for both error measurement and training.\n",
        "        \"model_rank\": 40,\n",
        "        \"data_params\": {\"m\": 120, \"n\": 100, \"r\": 40}\n",
        "    },\n",
        "    r\"Standard NMF on $D$\": {\n",
        "        \"alg_func\": nmf,\n",
        "        \"alg_params\": {},\n",
        "        \"data_input\": (\"D_tilde\", \"D\"),  # Measure error on X but train on corrupted X.\n",
        "        \"model_rank\": 40,\n",
        "        \"data_params\": {\"m\": 120, \"n\": 100, \"r\": 40, \"beta\": 0.2}\n",
        "    },\n",
        "    r\"QMU on $D$\": {\n",
        "        \"alg_func\": qmu,\n",
        "        \"alg_params\": {\"q\": 0.8},\n",
        "        \"data_input\": (\"D_tilde\", \"D\"),\n",
        "        \"model_rank\": 40,\n",
        "        \"data_params\": {\"m\": 120, \"n\": 100, \"r\": 40, \"beta\": 0.2}\n",
        "    }\n",
        "}\n",
        "\n",
        "# Run the experiments:\n",
        "run_experiments(num_runs=10, num_iterations=400,\n",
        "                          experiment=experiment, data_gen_func=generate_synthetic_matrix,\n",
        "                          base_seed=42, output={\"Error Plot\"})"
      ]
    },
    {
      "cell_type": "markdown",
      "metadata": {
        "id": "2R9iZUcRmMep"
      },
      "source": [
        "### Relative error against corrupted and uncorrupted data (Figure 3)\n",
        "\n",
        "In our second experiment, we compare the errors of the matrix factorization produced by QMU on $\\mathbf{D}$ with model rank $r = 40$ measured against uncorrupted data $\\tilde{\\mathbf{D}}\\in \\mathbb{R}^{120 \\times 100}$ with rank $\\hat{r} = 40$ and corrupted data $\\mathbf{D}$ with corruption rate $\\beta = 0.1$.\n",
        "\n",
        "The error plot generated below demonstrates that QMU does not fit to the corrupted data $\\mathbf{D}$ but instead fits to the uncorrupted data $\\tilde{\\mathbf{D}}$, despite not being provided this uncorrupted input, indicating it is able to identify and ignore the corrupted entries."
      ]
    },
    {
      "cell_type": "code",
      "execution_count": 13,
      "metadata": {
        "id": "5j4eDj2hmMep"
      },
      "outputs": [
        {
          "name": "stdout",
          "output_type": "stream",
          "text": [
            "QMU trained on $\\displaystyle D$ measured against $\\displaystyle \\tilde{D}$: average runtime 0.2574 +/- 0.0278 seconds\n",
            "QMU trained on $\\displaystyle D$ measured against $\\displaystyle D$: average runtime 0.2802 +/- 0.0842 seconds\n"
          ]
        }
      ],
      "source": [
        "experiment = {\n",
        "    r\"QMU trained on $\\displaystyle D$ measured against $\\displaystyle \\tilde{D}$\": {\n",
        "        \"alg_func\": qmu,\n",
        "        \"alg_params\": {\"q\": 0.9},\n",
        "        \"data_input\": (\"D_tilde\", \"D_tilde\"),\n",
        "        \"model_rank\": 40,\n",
        "        \"data_params\": {\"m\": 120, \"n\": 100, \"r\": 40, \"beta\": 0.1}\n",
        "    },\n",
        "    r\"QMU trained on $\\displaystyle D$ measured against $\\displaystyle D$\": {\n",
        "        \"alg_func\": qmu,\n",
        "        \"alg_params\": {\"q\": 0.9},\n",
        "        \"data_input\": (\"D\", \"D\"),\n",
        "        \"model_rank\": 40,\n",
        "        \"data_params\": {\"m\": 120, \"n\": 100, \"r\": 40, \"beta\": 0.1}\n",
        "    },\n",
        "}\n",
        "\n",
        "run_experiments(num_runs=10, num_iterations=400,\n",
        "                          experiment=experiment, data_gen_func=generate_synthetic_matrix,\n",
        "                          base_seed=42, output={\"Error Plot\"}, y_lab=\"Relative Error\")"
      ]
    },
    {
      "cell_type": "markdown",
      "metadata": {
        "id": "OU0AcWLEZjy0"
      },
      "source": [
        "### Varying quantile $q$ with fixed corruption rate $\\beta$ (Figure 4)\n",
        "\n",
        "In this experiment, we vary the quantile hyperparameter $q$ while holding the data corruption rate $\\beta$ constant at $\\beta = 0.2$. We once again generate uncorrupted data $\\tilde{\\mathbf{D}}\\in \\mathbb{R}^{120 \\times 100}$ with rank $\\hat{r} = 40$ and corrupted data $\\mathbf{D}$ with corruption rate $\\beta = 0.2$, and match the model rank $r=40$. The plot generated below illustrates that quantile $q = 0.8 = 1 - \\beta$ performs best, while when too many entries are masked ($1-q > \\beta$) the method performs slightly worse, and when we fail to mask the corruptions ($1-q < \\beta$) the method diverges. This result highlights the need to select a conservative quantile $q$; however, in real-world contexts, this may be challenging to determine."
      ]
    },
    {
      "cell_type": "code",
      "execution_count": 14,
      "metadata": {
        "colab": {
          "base_uri": "https://localhost:8080/"
        },
        "id": "R-THSKcKXruB",
        "outputId": "95823a59-732a-4904-fa15-271eb45a435f"
      },
      "outputs": [
        {
          "name": "stdout",
          "output_type": "stream",
          "text": [
            "QMU on $\\displaystyle D$ with $\\displaystyle q = 0.95$: average runtime 0.1987 +/- 0.0199 seconds\n",
            "QMU on $\\displaystyle D$ with $\\displaystyle q = 0.90$: average runtime 0.1977 +/- 0.0235 seconds\n",
            "QMU on $\\displaystyle D$ with $\\displaystyle q = 0.85$: average runtime 0.198 +/- 0.0223 seconds\n",
            "QMU on $\\displaystyle D$ with $\\displaystyle q = 0.80$: average runtime 0.2152 +/- 0.0169 seconds\n",
            "QMU on $\\displaystyle D$ with $\\displaystyle q = 0.75$: average runtime 0.1919 +/- 0.0141 seconds\n"
          ]
        }
      ],
      "source": [
        "experiment = {}\n",
        "for q in [0.95, 0.9, 0.85, 0.8, 0.75]:\n",
        "    experiment[rf\"QMU on $\\displaystyle D$ with $\\displaystyle q = {q:.2f}$\"] = {\n",
        "        \"alg_func\": qmu,\n",
        "        \"alg_params\": {\"q\": q},\n",
        "        \"data_input\": (\"D_tilde\", \"D\"),\n",
        "        \"model_rank\": 40,\n",
        "        \"data_params\": {\"m\": 120, \"n\": 100, \"r\": 40, \"beta\": 0.15}\n",
        "    }\n",
        "\n",
        "run_experiments(num_runs=10, num_iterations=400,\n",
        "                          experiment=experiment, data_gen_func=generate_synthetic_matrix,\n",
        "                          base_seed=42, output={\"Error Plot\"})"
      ]
    },
    {
      "cell_type": "markdown",
      "metadata": {
        "id": "e2iCzcgcExli"
      },
      "source": [
        "### Varying $\\beta$ with fixed $q$\n",
        "\n",
        "Similar to the previous experiment, in this experiment we measure the error when applying our method with fixed $q = 0.15$ and vary$\\beta$. We once again use matrix dimensions $120 \\times 100$ with true data rank $40$, and match the model rank to also be $r=40$. The plot generated below illustrates the error results. Consistent with the previous result, the model performs optimally for $1-q = \\beta$, slightly worse when $1-q > \\beta$, and significantly worse when $1-q < \\beta$."
      ]
    },
    {
      "cell_type": "code",
      "execution_count": 15,
      "metadata": {
        "colab": {
          "base_uri": "https://localhost:8080/",
          "height": 627
        },
        "id": "I9oIpisgGH8V",
        "outputId": "82cfd263-04b2-4765-c784-3daee658f362"
      },
      "outputs": [
        {
          "name": "stdout",
          "output_type": "stream",
          "text": [
            "QMU on $\\displaystyle D$ with $\\displaystyle \\beta = 0.05$: average runtime 0.2051 +/- 0.0191 seconds\n",
            "QMU on $\\displaystyle D$ with $\\displaystyle \\beta = 0.10$: average runtime 0.2044 +/- 0.0136 seconds\n",
            "QMU on $\\displaystyle D$ with $\\displaystyle \\beta = 0.15$: average runtime 0.1982 +/- 0.0132 seconds\n",
            "QMU on $\\displaystyle D$ with $\\displaystyle \\beta = 0.20$: average runtime 0.2004 +/- 0.0154 seconds\n",
            "QMU on $\\displaystyle D$ with $\\displaystyle \\beta = 0.25$: average runtime 0.193 +/- 0.0191 seconds\n"
          ]
        }
      ],
      "source": [
        "experiment = {}\n",
        "for beta in [0.05, 0.1, 0.15, 0.2, 0.25]:\n",
        "    experiment[rf\"QMU on $\\displaystyle D$ with $\\displaystyle \\beta = {beta:.2f}$\"] = {\n",
        "        \"alg_func\": qmu,\n",
        "        \"alg_params\": {\"q\": 0.85},\n",
        "        \"data_input\": (\"D_tilde\", \"D\"),  # Use uncorrupted data for both error measurement and training.\n",
        "        \"model_rank\": 40,\n",
        "        \"data_params\": {\"m\": 120, \"n\": 100, \"r\": 40, \"beta\": beta}\n",
        "    }\n",
        "\n",
        "# Run the experiments:\n",
        "run_experiments(num_runs=10, num_iterations=400,\n",
        "                          experiment=experiment, data_gen_func=generate_synthetic_matrix,\n",
        "                          base_seed=42, output={\"Error Plot\"})"
      ]
    },
    {
      "cell_type": "markdown",
      "metadata": {
        "id": "C9r0xlD3HEqE"
      },
      "source": [
        "### Varying corruption rate $\\beta$ and quantile $q$ together (Figure 5)\n",
        "\n",
        "In this experiment, we vary the quantile $q$ and the corruption rate $\\beta$ together such that $q + \\beta = 1$. We once again generate uncorrupted data $\\tilde{\\mathbf{D}}\\in \\mathbb{R}^{120 \\times 100}$ with rank $\\hat{r} = 40$, and match the model rank $r=40$. The plot generated below displays the training error of the different learned models for each combination tested of $q$ and $\\beta$. We observe that error increases as corruption rate $\\beta$ increases, however, this error increase is gradual as only slightly less information is available in each iteration."
      ]
    },
    {
      "cell_type": "code",
      "execution_count": 16,
      "metadata": {
        "colab": {
          "base_uri": "https://localhost:8080/",
          "height": 627
        },
        "id": "XjJjdywYHD9o",
        "outputId": "2b77eba7-8856-42e3-8cc8-d773311d2283"
      },
      "outputs": [
        {
          "name": "stdout",
          "output_type": "stream",
          "text": [
            "QMU on $\\displaystyle D$ with $\\displaystyle \\beta = 0.05, q = 0.95$: average runtime 0.2064 +/- 0.013 seconds\n",
            "QMU on $\\displaystyle D$ with $\\displaystyle \\beta = 0.10, q = 0.90$: average runtime 0.1962 +/- 0.0198 seconds\n",
            "QMU on $\\displaystyle D$ with $\\displaystyle \\beta = 0.15, q = 0.85$: average runtime 0.2034 +/- 0.0223 seconds\n",
            "QMU on $\\displaystyle D$ with $\\displaystyle \\beta = 0.20, q = 0.80$: average runtime 0.2009 +/- 0.0237 seconds\n",
            "QMU on $\\displaystyle D$ with $\\displaystyle \\beta = 0.25, q = 0.75$: average runtime 0.1946 +/- 0.0102 seconds\n"
          ]
        }
      ],
      "source": [
        "experiment = {}\n",
        "for beta in [0.05, 0.1, 0.15, 0.2, 0.25]:\n",
        "    experiment[rf\"QMU on $\\displaystyle D$ with $\\displaystyle \\beta = {beta:.2f}, q = {(1 - beta):.2f}$\"] = {\n",
        "        \"alg_func\": qmu,\n",
        "        \"alg_params\": {\"q\": 1 - beta},\n",
        "        \"data_input\": (\"D_tilde\", \"D\"),  # Use uncorrupted data for both error measurement and training.\n",
        "        \"model_rank\": 40,\n",
        "        \"data_params\": {\"m\": 120, \"n\": 100, \"r\": 40, \"beta\": beta}\n",
        "    }\n",
        "\n",
        "# Run the experiments:\n",
        "run_experiments(num_runs=10, num_iterations=400,\n",
        "                          experiment=experiment, data_gen_func=generate_synthetic_matrix,\n",
        "                          base_seed=42, output={\"Error Plot\"})"
      ]
    },
    {
      "cell_type": "markdown",
      "metadata": {
        "id": "ig71L1EOZsv_"
      },
      "source": [
        "### Varying model rank $r$ (Figure 6)\n",
        "\n",
        "In this experiment, we measure the effectiveness of QMU on corrupted synthetic data when varying the model rank $r$. We once again generate uncorrupted data $\\tilde{\\mathbf{D}}\\in \\mathbb{R}^{120 \\times 100}$ with rank $\\hat{r} = 40$ and corrupted data $\\mathbf{D}$ with corruption rate $\\beta = 0.1$. We run QMU on $\\mathbf{D}$ with model ranks $r \\in \\{10, 20, 40, 60\\}$ and measure error against $\\tilde{\\mathbf{D}}$. As shown in the error plot generated below, model performance suffers if we underestimate the rank of the data, but overestimating the rank does not result in a significant difference in performance."
      ]
    },
    {
      "cell_type": "code",
      "execution_count": 17,
      "metadata": {
        "colab": {
          "base_uri": "https://localhost:8080/",
          "height": 627
        },
        "id": "RzHwyeR7ZpZK",
        "outputId": "86f6490f-aca4-4655-e652-182dfdca22b8"
      },
      "outputs": [
        {
          "name": "stdout",
          "output_type": "stream",
          "text": [
            "QMU on $\\displaystyle D$ with $\\displaystyle r = 4$: average runtime 0.1364 +/- 0.0141 seconds\n",
            "QMU on $\\displaystyle D$ with $\\displaystyle r = 8$: average runtime 0.1403 +/- 0.0176 seconds\n",
            "QMU on $\\displaystyle D$ with $\\displaystyle r = 16$: average runtime 0.1573 +/- 0.0078 seconds\n",
            "QMU on $\\displaystyle D$ with $\\displaystyle r = 32$: average runtime 0.1838 +/- 0.0184 seconds\n",
            "QMU on $\\displaystyle D$ with $\\displaystyle r = 64$: average runtime 0.2847 +/- 0.0183 seconds\n"
          ]
        }
      ],
      "source": [
        "experiment = {}\n",
        "for r in [4, 8, 16, 32, 64]:\n",
        "    experiment[rf\"QMU on $\\displaystyle D$ with $\\displaystyle r = {r}$\"] = {\n",
        "        \"alg_func\": qmu,\n",
        "        \"alg_params\": {\"q\": 0.9},\n",
        "        \"data_input\": (\"D_tilde\", \"D\"),\n",
        "        \"model_rank\": r,\n",
        "        \"data_params\": {\"m\": 120, \"n\": 100, \"r\": 40, \"beta\": 0.1}\n",
        "    }\n",
        "\n",
        "# Run the experiments:\n",
        "run_experiments(num_runs=10, num_iterations=400,\n",
        "                          experiment=experiment, data_gen_func=generate_synthetic_matrix,\n",
        "                          base_seed=42, output={\"Error Plot\"})"
      ]
    },
    {
      "cell_type": "markdown",
      "metadata": {
        "id": "bmVletVkEKSl"
      },
      "source": [
        "### Varying rank of the data\n",
        "\n",
        "In this experiment, we measure the effectiveness of QMU on corrupted synthetic data when varying the rank of the data. Matrices $\\tilde{\\mathbf{D}}$ are randomly generated with ranks of 16, 24, 32, and 40 and dimensions $64\\times 48$, and $10\\%$ of their entries, chosen at random, are corrupted to produce $\\mathbf{D}$. We run QMU on $\\mathbf{D}$ of each rank, with the algorithm assuming a rank of 32, for 400 iterations and repeat this experiment 10 times. All errors were measured against $\\tilde{\\mathbf{D}}$. As shown in The error plot generated below, the model performance does not depend too much on the rank of the data, although it does seem to perform better on $\\mathbf{D}$ with small rank."
      ]
    },
    {
      "cell_type": "code",
      "execution_count": 18,
      "metadata": {
        "colab": {
          "base_uri": "https://localhost:8080/",
          "height": 627
        },
        "id": "ZcPvI5_7EKEA",
        "outputId": "faa95131-3507-4e61-f2d8-1fb9ccf167d5"
      },
      "outputs": [
        {
          "name": "stdout",
          "output_type": "stream",
          "text": [
            "QMU on $\\displaystyle D$ with $\\displaystyle r = 4$: average runtime 0.1664 +/- 0.0121 seconds\n",
            "QMU on $\\displaystyle D$ with $\\displaystyle r = 8$: average runtime 0.1646 +/- 0.0098 seconds\n",
            "QMU on $\\displaystyle D$ with $\\displaystyle r = 16$: average runtime 0.163 +/- 0.0127 seconds\n",
            "QMU on $\\displaystyle D$ with $\\displaystyle r = 32$: average runtime 0.1643 +/- 0.0094 seconds\n",
            "QMU on $\\displaystyle D$ with $\\displaystyle r = 64$: average runtime 0.1638 +/- 0.0121 seconds\n"
          ]
        }
      ],
      "source": [
        "experiment = {}\n",
        "for r in [4, 8, 16, 32, 64]:\n",
        "    experiment[rf\"QMU on $\\displaystyle D$ with $\\displaystyle r = {r}$\"] = {\n",
        "        \"alg_func\": qmu,\n",
        "        \"alg_params\": {\"q\": 0.9},\n",
        "        \"data_input\": (\"D_tilde\", \"D\"),\n",
        "        \"model_rank\": 16,\n",
        "        \"data_params\": {\"m\": 120, \"n\": 100, \"r\": r, \"beta\": 0.1}\n",
        "    }\n",
        "\n",
        "# Run the experiments:\n",
        "run_experiments(num_runs=10, num_iterations=400,\n",
        "                          experiment=experiment, data_gen_func=generate_synthetic_matrix,\n",
        "                          base_seed=42, output={\"Error Plot\"})"
      ]
    },
    {
      "cell_type": "markdown",
      "metadata": {
        "id": "jJyTCkR5OIYI"
      },
      "source": [
        "### Different Matrix Dimensions\n",
        "\n",
        "In this experiment, we measure the effectiveness of QMU on corrupted data matrices generated with corruption rate $\\beta = 0.1$ from uncorrupted matrices with the same rank, $\\hat{r} = 20$, but different dimensions, $30 \\times 25$, $60 \\times 50$, $120\\times 100$ and $240 \\times 200$.\n",
        "%$10\\%$ of their entries, chosen at random, are corrupted to produce $\\mathbf{D}$.\n",
        "We run QMU on each $\\mathbf{D}$ with model rank $r = 20$. All errors are measured against $\\tilde{\\mathbf{D}}$. As shown in The error plot generated below, the model error does not depend strongly on the dimensions of the data matrices. However, the model does take more time per iteration for larger matrices."
      ]
    },
    {
      "cell_type": "code",
      "execution_count": 19,
      "metadata": {
        "colab": {
          "base_uri": "https://localhost:8080/",
          "height": 627
        },
        "id": "aSaSVUwLONvb",
        "outputId": "8e8b13cf-6759-42c9-ed72-bcc4f0cd4442"
      },
      "outputs": [
        {
          "name": "stdout",
          "output_type": "stream",
          "text": [
            "QMU on $\\displaystyle D$ with dimensions $\\displaystyle 16 \\times 12$: average runtime 0.0226 +/- 0.0016 seconds\n",
            "QMU on $\\displaystyle D$ with dimensions $\\displaystyle 32 \\times 24$: average runtime 0.0274 +/- 0.0019 seconds\n",
            "QMU on $\\displaystyle D$ with dimensions $\\displaystyle 64 \\times 48$: average runtime 0.045 +/- 0.0031 seconds\n",
            "QMU on $\\displaystyle D$ with dimensions $\\displaystyle 128 \\times 96$: average runtime 0.194 +/- 0.0085 seconds\n"
          ]
        }
      ],
      "source": [
        "experiment = {}\n",
        "for m, n in [(16, 12), (32, 24), (64, 48), (128, 96)]:\n",
        "    experiment[rf\"QMU on $\\displaystyle D$ with dimensions $\\displaystyle {m} \\times {n}$\"] = {\n",
        "        \"alg_func\": qmu,\n",
        "        \"alg_params\": {\"q\": 0.9},\n",
        "        \"data_input\": (\"D_tilde\", \"D\"),\n",
        "        \"model_rank\": m // 4,\n",
        "        \"data_params\": {\"m\": m, \"n\": n, \"r\": m // 4, \"beta\": 0.1}\n",
        "    }\n",
        "\n",
        "# Run the experiments:\n",
        "run_experiments(num_runs=10, num_iterations=400,\n",
        "                          experiment=experiment, data_gen_func=generate_synthetic_matrix,\n",
        "                          base_seed=42, output={\"Error Plot\"})"
      ]
    },
    {
      "cell_type": "markdown",
      "metadata": {
        "id": "EC17DTbDFWZ9"
      },
      "source": [
        "## Swimmer Data\n",
        "\n",
        "In this section, we apply the proposed method to a toy image dataset called the \\texttt{Swimmer} dataset, which is composed of $11 \\times 20$-pixel images.\n",
        "\n",
        "We let $\\tilde{\\mathbf{D}}$ be the matrix with columns that are the vectorized images from the \\texttt{Swimmer} dataset, and note that this matrix has data rank $\\hat{r} = 16$."
      ]
    },
    {
      "cell_type": "markdown",
      "metadata": {
        "id": "ompGSOhOFWZ-"
      },
      "source": [
        "### Standard Multiplicative Updates vs. QMU (Figure 7)"
      ]
    },
    {
      "cell_type": "code",
      "execution_count": 21,
      "metadata": {
        "colab": {
          "base_uri": "https://localhost:8080/",
          "height": 972
        },
        "id": "8hgRLD9tFWZ-",
        "outputId": "a990a397-cfd1-447e-8b06-d86f54021685"
      },
      "outputs": [
        {
          "data": {
            "image/png": "[encoded data removed]",
            "text/plain": [
              "<Figure size 800x1000 with 5 Axes>"
            ]
          },
          "metadata": {},
          "output_type": "display_data"
        }
      ],
      "source": [
        "import matplotlib.pyplot as plt\n",
        "import matplotlib.gridspec as gridspec\n",
        "import numpy as np\n",
        "\n",
        "# Assume the following functions are defined elsewhere in your code:\n",
        "# load_swimmer_dataset, nmf, qmu\n",
        "\n",
        "# Load the dataset and compute matrices with NMF and QMU\n",
        "D, D_tilde = load_swimmer_dataset(beta=0.05, corruption_scale=5)\n",
        "\n",
        "W_nmf_uncorr, H_nmf_uncorr, _, _, _ = nmf(D_tilde, D_tilde, 400, 17, seed=42)\n",
        "W_nmf_corr, H_nmf_corr, _, _, _ = nmf(D_tilde, D, 400, 17, seed=42)\n",
        "W_qmu, H_qmu, _, _, _ = qmu(D_tilde, D, 400, 17, 0.95, seed=42)\n",
        "\n",
        "# Compute the five matrices of interest:\n",
        "mat_a = np.reshape(D_tilde[:, 17], (11, 20))\n",
        "mat_b = np.reshape((W_nmf_uncorr @ H_nmf_uncorr)[:, 17], (11, 20))\n",
        "mat_c = np.reshape(D[:, 17], (11, 20))\n",
        "mat_d = np.reshape((W_nmf_corr @ H_nmf_corr)[:, 17], (11, 20))\n",
        "mat_e = np.reshape((W_qmu @ H_qmu)[:, 17], (11, 20))\n",
        "\n",
        "# Set up a figure with 3 rows and 2 columns:\n",
        "fig = plt.figure(constrained_layout=True, figsize=(8, 10))\n",
        "gs = gridspec.GridSpec(3, 2, figure=fig)\n",
        "\n",
        "# Create subplots:\n",
        "ax1 = fig.add_subplot(gs[0, 0])\n",
        "ax2 = fig.add_subplot(gs[0, 1])\n",
        "ax3 = fig.add_subplot(gs[1, 0])\n",
        "ax4 = fig.add_subplot(gs[1, 1])\n",
        "ax5 = fig.add_subplot(gs[2, :])  # Spans both columns\n",
        "\n",
        "# List of axes, corresponding matrices, and captions:\n",
        "axes = [ax1, ax2, ax3, ax4, ax5]\n",
        "matrices = [mat_a, mat_b, mat_c, mat_d, mat_e]\n",
        "captions = [r'(a) $\\tilde{D}$', r'(b) NMF on $\\tilde{D}$', r'(c) $D$', r'(d) NMF on $D$', r'(e) QMU on $D$']\n",
        "\n",
        "# Calculate the global minimum and maximum for a fixed color scale\n",
        "global_min = min(np.min(M) for M in matrices)\n",
        "global_max = max(np.max(M) for M in matrices)\n",
        "\n",
        "# Plot each matrix and add its caption:\n",
        "for ax, M, caption in zip(axes, matrices, captions):\n",
        "    ax.imshow(M, cmap='viridis', vmin=global_min, vmax=global_max)\n",
        "    ax.axis('off')  # Remove x and y axes\n",
        "    # Add a caption in the top-left corner of the axis\n",
        "    ax.text(0.05, 0.95, caption,\n",
        "            transform=ax.transAxes,\n",
        "            fontsize=14, fontweight='bold',\n",
        "            fontfamily='sans-serif',\n",
        "            color='white',\n",
        "            verticalalignment='top')\n",
        "\n",
        "plt.show()"
      ]
    },
    {
      "cell_type": "markdown",
      "metadata": {
        "id": "0wRnXDTpFWZ-"
      },
      "source": [
        "### QMU Corrupted vs Uncorrupted Error Measures"
      ]
    },
    {
      "cell_type": "code",
      "execution_count": 22,
      "metadata": {
        "colab": {
          "base_uri": "https://localhost:8080/",
          "height": 636
        },
        "id": "5r3rF8gkFWZ-",
        "outputId": "4b66f0b8-a708-4431-c255-6fedd0dc7876"
      },
      "outputs": [
        {
          "name": "stdout",
          "output_type": "stream",
          "text": [
            "QMU trained on $\\displaystyle D$ measured against $\\displaystyle \\tilde{D}$: average runtime 0.8526 +/- 0.2096 seconds\n",
            "QMU trained on $\\displaystyle D$ measured against $\\displaystyle D$: average runtime 0.8929 +/- 0.2283 seconds\n"
          ]
        }
      ],
      "source": [
        "experiment = {\n",
        "    r\"QMU trained on $\\displaystyle D$ measured against $\\displaystyle \\tilde{D}$\": {\n",
        "        \"alg_func\": qmu,\n",
        "        \"alg_params\": {\"q\": 0.9},\n",
        "        \"data_input\": (\"D_tilde\", \"D_tilde\"),\n",
        "        \"model_rank\": 40,\n",
        "        \"data_params\": {\"beta\": 0.1}\n",
        "    },\n",
        "    r\"QMU trained on $\\displaystyle D$ measured against $\\displaystyle D$\": {\n",
        "        \"alg_func\": qmu,\n",
        "        \"alg_params\": {\"q\": 0.9},\n",
        "        \"data_input\": (\"D\", \"D\"),\n",
        "        \"model_rank\": 40,\n",
        "        \"data_params\": {\"beta\": 0.1}\n",
        "    },\n",
        "}\n",
        "\n",
        "run_experiments(num_runs=10, num_iterations=400,\n",
        "                          experiment=experiment, data_gen_func=load_swimmer_dataset,\n",
        "                          base_seed=42, output={\"Error Plot\"})"
      ]
    },
    {
      "cell_type": "markdown",
      "metadata": {
        "id": "GVGoqK-zFWZ-"
      },
      "source": [
        "### Different Guesses for $q$"
      ]
    },
    {
      "cell_type": "code",
      "execution_count": 23,
      "metadata": {
        "colab": {
          "base_uri": "https://localhost:8080/",
          "height": 635
        },
        "id": "TOBf41SNFWZ-",
        "outputId": "768fca23-f3b8-4b86-a7f9-c2fec775c799"
      },
      "outputs": [
        {
          "name": "stdout",
          "output_type": "stream",
          "text": [
            "QMU on $\\displaystyle D$ with $\\displaystyle q = 0.95$: average runtime 1.5063 +/- 0.4196 seconds\n",
            "QMU on $\\displaystyle D$ with $\\displaystyle q = 0.90$: average runtime 2.3922 +/- 0.6818 seconds\n",
            "QMU on $\\displaystyle D$ with $\\displaystyle q = 0.85$: average runtime 1.0025 +/- 0.2407 seconds\n",
            "QMU on $\\displaystyle D$ with $\\displaystyle q = 0.80$: average runtime 0.9532 +/- 0.2096 seconds\n",
            "QMU on $\\displaystyle D$ with $\\displaystyle q = 0.75$: average runtime 0.9007 +/- 0.3239 seconds\n"
          ]
        }
      ],
      "source": [
        "experiment = {}\n",
        "for q in [0.95, 0.9, 0.85, 0.8, 0.75]:\n",
        "    experiment[rf\"QMU on $\\displaystyle D$ with $\\displaystyle q = {q:.2f}$\"] = {\n",
        "        \"alg_func\": qmu,\n",
        "        \"alg_params\": {\"q\": q},\n",
        "        \"data_input\": (\"D_tilde\", \"D\"),\n",
        "        \"model_rank\": 40,\n",
        "        \"data_params\": {\"beta\": 0.15}\n",
        "    }\n",
        "\n",
        "run_experiments(num_runs=10, num_iterations=400,\n",
        "                          experiment=experiment, data_gen_func=load_swimmer_dataset,\n",
        "                          base_seed=42, output={\"Error Plot\"})"
      ]
    },
    {
      "cell_type": "markdown",
      "metadata": {
        "id": "GMSdm5OOFWZ-"
      },
      "source": [
        "### Fixed $q$, varying $\\beta$"
      ]
    },
    {
      "cell_type": "code",
      "execution_count": 24,
      "metadata": {
        "colab": {
          "base_uri": "https://localhost:8080/",
          "height": 627
        },
        "id": "MHFO1oagFWZ-",
        "outputId": "70a930db-d811-436e-f33e-ccad59c73f56"
      },
      "outputs": [
        {
          "name": "stdout",
          "output_type": "stream",
          "text": [
            "QMU on $\\displaystyle D$ with $\\displaystyle \\beta = 0.05$: average runtime 1.0251 +/- 0.2193 seconds\n",
            "QMU on $\\displaystyle D$ with $\\displaystyle \\beta = 0.10$: average runtime 1.038 +/- 0.3229 seconds\n",
            "QMU on $\\displaystyle D$ with $\\displaystyle \\beta = 0.15$: average runtime 1.0056 +/- 0.214 seconds\n",
            "QMU on $\\displaystyle D$ with $\\displaystyle \\beta = 0.20$: average runtime 2.8307 +/- 0.7787 seconds\n",
            "QMU on $\\displaystyle D$ with $\\displaystyle \\beta = 0.25$: average runtime 1.6198 +/- 0.5723 seconds\n"
          ]
        }
      ],
      "source": [
        "experiment = {}\n",
        "for beta in [0.05, 0.1, 0.15, 0.2, 0.25]:\n",
        "    experiment[rf\"QMU on $\\displaystyle D$ with $\\displaystyle \\beta = {beta:.2f}$\"] = {\n",
        "        \"alg_func\": qmu,\n",
        "        \"alg_params\": {\"q\": 0.85},\n",
        "        \"data_input\": (\"D_tilde\", \"D\"),\n",
        "        \"model_rank\": 40,\n",
        "        \"data_params\": {\"beta\": beta}\n",
        "    }\n",
        "\n",
        "run_experiments(num_runs=10, num_iterations=400,\n",
        "                          experiment=experiment, data_gen_func=load_swimmer_dataset,\n",
        "                          base_seed=42, output={\"Error Plot\"})"
      ]
    },
    {
      "cell_type": "markdown",
      "metadata": {
        "id": "kkMbduIgFWZ-"
      },
      "source": [
        "### Varying $q$ and $\\beta$ together"
      ]
    },
    {
      "cell_type": "code",
      "execution_count": 25,
      "metadata": {
        "colab": {
          "base_uri": "https://localhost:8080/",
          "height": 627
        },
        "id": "I70K6xt5FWZ-",
        "outputId": "df87bc80-08c0-4c33-8bb8-5a7c7543bdab"
      },
      "outputs": [
        {
          "name": "stdout",
          "output_type": "stream",
          "text": [
            "QMU on $\\displaystyle D$ with $\\displaystyle \\beta = 0.05, q = 0.95$: average runtime 0.6728 +/- 0.0277 seconds\n",
            "QMU on $\\displaystyle D$ with $\\displaystyle \\beta = 0.10, q = 0.90$: average runtime 0.7014 +/- 0.0375 seconds\n",
            "QMU on $\\displaystyle D$ with $\\displaystyle \\beta = 0.15, q = 0.85$: average runtime 0.703 +/- 0.0262 seconds\n",
            "QMU on $\\displaystyle D$ with $\\displaystyle \\beta = 0.20, q = 0.80$: average runtime 0.725 +/- 0.0159 seconds\n",
            "QMU on $\\displaystyle D$ with $\\displaystyle \\beta = 0.25, q = 0.75$: average runtime 0.7115 +/- 0.0233 seconds\n"
          ]
        }
      ],
      "source": [
        "experiment = {}\n",
        "for beta in [0.05, 0.1, 0.15, 0.2, 0.25]:\n",
        "    experiment[rf\"QMU on $\\displaystyle D$ with $\\displaystyle \\beta = {beta:.2f}, q = {(1 - beta):.2f}$\"] = {\n",
        "        \"alg_func\": qmu,\n",
        "        \"alg_params\": {\"q\": 1 - beta},\n",
        "        \"data_input\": (\"D_tilde\", \"D\"),  # Use uncorrupted data for both error measurement and training.\n",
        "        \"model_rank\": 40,\n",
        "        \"data_params\": {\"beta\": beta}\n",
        "    }\n",
        "\n",
        "# Run the experiments:\n",
        "run_experiments(num_runs=10, num_iterations=400,\n",
        "                          experiment=experiment, data_gen_func=load_swimmer_dataset,\n",
        "                          base_seed=42, output={\"Error Plot\"})"
      ]
    },
    {
      "cell_type": "markdown",
      "metadata": {
        "id": "p_GYKPtgFWZ-"
      },
      "source": [
        "### Different Model Ranks"
      ]
    },
    {
      "cell_type": "code",
      "execution_count": 26,
      "metadata": {
        "colab": {
          "base_uri": "https://localhost:8080/",
          "height": 627
        },
        "id": "x7YNrryBFWZ-",
        "outputId": "4ceca273-177b-48a0-cd07-f23c0043febd"
      },
      "outputs": [
        {
          "name": "stdout",
          "output_type": "stream",
          "text": [
            "QMU on $\\displaystyle D$ with $\\displaystyle r = 4$: average runtime 0.4659 +/- 0.1863 seconds\n",
            "QMU on $\\displaystyle D$ with $\\displaystyle r = 8$: average runtime 0.4958 +/- 0.256 seconds\n",
            "QMU on $\\displaystyle D$ with $\\displaystyle r = 16$: average runtime 0.6718 +/- 0.1403 seconds\n",
            "QMU on $\\displaystyle D$ with $\\displaystyle r = 32$: average runtime 0.8491 +/- 0.2552 seconds\n",
            "QMU on $\\displaystyle D$ with $\\displaystyle r = 64$: average runtime 1.2533 +/- 0.4757 seconds\n"
          ]
        }
      ],
      "source": [
        "experiment = {}\n",
        "for r in [4, 8, 16, 32, 64]:\n",
        "    experiment[rf\"QMU on $\\displaystyle D$ with $\\displaystyle r = {r}$\"] = {\n",
        "        \"alg_func\": qmu,\n",
        "        \"alg_params\": {\"q\": 0.9},\n",
        "        \"data_input\": (\"D_tilde\", \"D\"),\n",
        "        \"model_rank\": r,\n",
        "        \"data_params\": {\"beta\": 0.1}\n",
        "    }\n",
        "\n",
        "# Run the experiments:\n",
        "run_experiments(num_runs=10, num_iterations=400,\n",
        "                          experiment=experiment, data_gen_func=load_swimmer_dataset,\n",
        "                          base_seed=42, output={\"Error Plot\"})"
      ]
    }
  ],
  "metadata": {
    "colab": {
      "provenance": []
    },
    "kernelspec": {
      "display_name": "Python 3",
      "name": "python3"
    },
    "language_info": {
      "codemirror_mode": {
        "name": "ipython",
        "version": 3
      },
      "file_extension": ".py",
      "mimetype": "text/x-python",
      "name": "python",
      "nbconvert_exporter": "python",
      "pygments_lexer": "ipython3",
      "version": "3.10.11"
    }
  },
  "nbformat": 4,
  "nbformat_minor": 0
}
